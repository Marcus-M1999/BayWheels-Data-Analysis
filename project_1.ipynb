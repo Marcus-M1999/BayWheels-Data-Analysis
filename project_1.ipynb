{
 "cells": [
  {
   "cell_type": "code",
   "execution_count": 23,
   "id": "0cfbbaee",
   "metadata": {},
   "outputs": [],
   "source": [
    "import pandas as pd\n",
    "import seaborn as sns\n",
    "%matplotlib inline\n",
    "import matplotlib.pyplot as plt\n",
    "import matplotlib.cm as cm"
   ]
  },
  {
   "cell_type": "markdown",
   "id": "d03b8f74",
   "metadata": {},
   "source": [
    "## Introduction"
   ]
  },
  {
   "cell_type": "markdown",
   "id": "23e95d0d",
   "metadata": {},
   "source": [
    "###### Lyft Bay wheels is trying to increase profits through attracting more customers, and has provided this dataset with the expectation of an analysis being conducted and concrete recommendations being made from the data. The dataset contains data from the San Francisco bay area from 2013 to 2018 and includes over 1.9 million trips occurring between 474 stations. After analyzing the dataset I have the following recommendations:\n",
    "###### 1.) To partner with local organizations to increase traffic at less popular stations such as San Pedro St. at Hedding St. and San Pablo Park. Partnering with community organizations to host events such as community bike rides, or festivals to encourage visitors to the area who would be more willing to purchase time on the Bay Wheel bikes. \n",
    "###### 2.) Focus on attracting new subscribers to the world of Bay Wheels by partnering with nearby facilities, shops, or restaurants through applications like Groupon. Offer a group discount for bike rental and lunch, or another experience with friends or family. One example could be partnering with a tennis coach to give discounts on lessons at the Missions Bay tennis courts, an underutilized location where no customers are subscribed.\n",
    "\n",
    "###### After some close analysis I have discovered that the top 5 most popular commuter trips are:\n",
    "\n",
    "###### 1.) 2nd at Townsend to Harry Bridges Plaza (Ferry Building)\n",
    "\n",
    "###### 2.) Embarcadero at Sansome Steuart at Market\n",
    "\n",
    "###### 3.) Embarcadero at Folsom San Francisco Caltrain (Townsend at 4th)\n",
    "\n",
    "###### 4.) Harry Bridges Plaza (Ferry Building) 2nd at Townsend\n",
    "\n",
    "###### 5.) San Francisco Caltrain (Townsend at 4th) Harry Bridges Plaza (Ferry Building)"
   ]
  },
  {
   "cell_type": "code",
   "execution_count": 100,
   "id": "34cc8ac3",
   "metadata": {},
   "outputs": [
    {
     "name": "stdout",
     "output_type": "stream",
     "text": [
      "Waiting on bqjob_r267031b1511b1de1_0000017a18431d4e_1 ... (9s) Current status: DONE   \n"
     ]
    }
   ],
   "source": [
    "! bq query --use_legacy_sql=FALSE --format=csv 'SELECT * FROM `bigquery-public-data.san_francisco_bikeshare.bikeshare_trips` WHERE (TIME(start_date) > TIME(7, 0, 0) AND TIME(start_date) < TIME(9, 0, 0)) OR (TIME(start_date) > TIME(16, 0, 0) AND TIME(start_date) < TIME(19, 0, 0)) AND duration_sec < 900 AND duration_sec > 300 AND (EXTRACT(DAYOFWEEK FROM start_date) NOT IN (1, 7)) AND start_station_id != end_station_id' > result.csv\n",
    "    \n"
   ]
  },
  {
   "cell_type": "markdown",
   "id": "5ebc92a7",
   "metadata": {},
   "source": [
    "## EDA "
   ]
  },
  {
   "cell_type": "markdown",
   "id": "5c81c223",
   "metadata": {},
   "source": [
    "#### Question 1: \n",
    "###### What defines a commuter trip?\n",
    "#### Answer:\n",
    "###### A commuter trip is one that takes place either during the morning commute hours (7am to 9am) or the afternoon commute hours (4pm to 7pm). This was chosen due to the [Tom Tom traffic Index](https://www.tomtom.com/en_gb/traffic-index/san-francisco-traffic/), which ranks the traffic and commute hours in the bay area. These trips will take place during the weekdays, when the majority of people work. Additionally, the trips will have to be longer than 5 minutes, and shorter than 19 minutes based on this [study](https://www.google.com/search?q=what+is+the+average+commute+length+on+bike&rlz=1C1GGRV_enUS751US751&oq=what+is+the+average+commute+length+on+bike&aqs=chrome..69i57.4477j0j9&sourceid=chrome&ie=UTF-8). Trips that start and end at the same station will be excluded from the table."
   ]
  },
  {
   "cell_type": "markdown",
   "id": "a39cd912",
   "metadata": {},
   "source": [
    "#### SQL Query:"
   ]
  },
  {
   "cell_type": "code",
   "execution_count": 101,
   "id": "6e54f6f9",
   "metadata": {},
   "outputs": [
    {
     "name": "stdout",
     "output_type": "stream",
     "text": [
      "Waiting on bqjob_r4c04537e78d6510_0000017a18434fc2_1 ... (0s) Current status: DONE   \n"
     ]
    }
   ],
   "source": [
    "! bq query --use_legacy_sql=FALSE --format=csv 'SELECT * FROM `bigquery-public-data.san_francisco_bikeshare.bikeshare_trips` WHERE (TIME(start_date) > TIME(7, 0, 0) AND TIME(start_date) < TIME(9, 0, 0)) OR (TIME(start_date) > TIME(16, 0, 0) AND TIME(start_date) < TIME(19, 0, 0)) AND duration_sec < 900 AND (EXTRACT(DAYOFWEEK FROM start_date) NOT IN (7, 6)) AND start_station_id != end_station_id' > Commuter_Table.csv"
   ]
  },
  {
   "cell_type": "markdown",
   "id": "0ba04b59",
   "metadata": {},
   "source": [
    "#### Question 2: \n",
    "###### What factors will influence a consumer's decision to rent a bike?\n",
    "#### Answer:\n",
    "###### The main factor seems to be geographical location, as all of the popular stations are near major commuter hubs such as Caltrain, BART stations, or the Ferry Building. This means that these stations receive a tremendous amount of foot traffic during the weekdays, but not nearly as much during the weekends. This information is beneficial to finding areas of improvement. \n"
   ]
  },
  {
   "cell_type": "markdown",
   "id": "861dd670",
   "metadata": {},
   "source": [
    "#### SQL Query 1:"
   ]
  },
  {
   "cell_type": "code",
   "execution_count": 102,
   "id": "c00d9281",
   "metadata": {},
   "outputs": [
    {
     "name": "stdout",
     "output_type": "stream",
     "text": [
      "Waiting on bqjob_r7102783e5fb829ac_0000017a18435768_1 ... (0s) Current status: DONE   \n"
     ]
    }
   ],
   "source": [
    "! bq query --use_legacy_sql=FALSE --format=csv 'SELECT c.start_station_name, SUM(CASE WHEN s.num_bikes_available = 0 THEN 1 ELSE 0 END) AS num_times_with_no_bikes FROM `bigquery-public-data.san_francisco_bikeshare.bikeshare_station_status` s JOIN `strange-radius-315021.section_99.Commuter_Table` c ON c.start_station_id = s.station_id GROUP BY c.start_station_name ORDER BY num_times_with_no_bikes DESC' > q2_1.csv\n"
   ]
  },
  {
   "cell_type": "markdown",
   "id": "c93271ad",
   "metadata": {},
   "source": [
    "#### SQL Query 2:"
   ]
  },
  {
   "cell_type": "code",
   "execution_count": 103,
   "id": "4ba75d08",
   "metadata": {},
   "outputs": [],
   "source": [
    "! bq query --use_legacy_sql=FALSE --format=csv 'SELECT c.start_station_name, COUNT(c.trip_id) AS trips FROM `strange-radius-315021.section_99.Commuter_table` c GROUP BY c.start_station_name ORDER BY trips DESC' >q2_2.csv"
   ]
  },
  {
   "cell_type": "markdown",
   "id": "0fdd4163",
   "metadata": {},
   "source": [
    "#### Question 3: \n",
    "###### What impact do subscriptions have on commuter trips?\n",
    "#### Answer:\n",
    "###### Most commuters seem to be subscribers as proven by the table, with over 618,000 commuters being subscribers and 38,000 not being subscribed to the service over the entire 4 year period. This means that Subscribers make up a majority of the commuter trips indicating that it may be easier to increase profits by focusing on the non-commuter customers rather than the commuters. \n",
    "\n"
   ]
  },
  {
   "cell_type": "markdown",
   "id": "ed341719",
   "metadata": {},
   "source": [
    "#### SQL Query:"
   ]
  },
  {
   "cell_type": "code",
   "execution_count": 104,
   "id": "80941cc7",
   "metadata": {},
   "outputs": [
    {
     "name": "stdout",
     "output_type": "stream",
     "text": [
      "Waiting on bqjob_rcbec56f689e7117_0000017a1843674f_1 ... (1s) Current status: DONE   \n"
     ]
    }
   ],
   "source": [
    "! bq query --use_legacy_sql=FALSE --format=csv 'SELECT c.subscriber_type, EXTRACT(YEAR FROM c.start_date) AS Year, COUNT(trip_id) AS trips FROM `bigquery-public-data.san_francisco_bikeshare.bikeshare_station_status` s JOIN `strange-radius-315021.section_99.Commuter_Table` c ON c.start_station_id = s.station_id GROUP BY Year, c.subscriber_type ORDER BY Year ASC' >q3.csv"
   ]
  },
  {
   "cell_type": "markdown",
   "id": "fd597e22",
   "metadata": {},
   "source": [
    "### A Deeper Dive:\n",
    "#### Question 3.1:\n",
    "######  How does general customer growth affect subscriber growth?\n",
    "#### Answer:\n",
    "###### The visualization below reveals the growth trends of both the subscriber and non-subscriber groups. While the number of subscribers seems to vary there is a general upward trend, disregarding 2016 when the total amount of customers fell significantly. \n"
   ]
  },
  {
   "cell_type": "code",
   "execution_count": 105,
   "id": "eccd06ca",
   "metadata": {},
   "outputs": [
    {
     "data": {
      "text/html": [
       "<div>\n",
       "<style scoped>\n",
       "    .dataframe tbody tr th:only-of-type {\n",
       "        vertical-align: middle;\n",
       "    }\n",
       "\n",
       "    .dataframe tbody tr th {\n",
       "        vertical-align: top;\n",
       "    }\n",
       "\n",
       "    .dataframe thead th {\n",
       "        text-align: right;\n",
       "    }\n",
       "</style>\n",
       "<table border=\"1\" class=\"dataframe\">\n",
       "  <thead>\n",
       "    <tr style=\"text-align: right;\">\n",
       "      <th></th>\n",
       "      <th>subscriber_type</th>\n",
       "      <th>Year</th>\n",
       "      <th>trips</th>\n",
       "    </tr>\n",
       "  </thead>\n",
       "  <tbody>\n",
       "    <tr>\n",
       "      <th>0</th>\n",
       "      <td>Subscriber</td>\n",
       "      <td>2013</td>\n",
       "      <td>25614</td>\n",
       "    </tr>\n",
       "    <tr>\n",
       "      <th>1</th>\n",
       "      <td>Customer</td>\n",
       "      <td>2013</td>\n",
       "      <td>2333</td>\n",
       "    </tr>\n",
       "    <tr>\n",
       "      <th>2</th>\n",
       "      <td>Subscriber</td>\n",
       "      <td>2014</td>\n",
       "      <td>102641</td>\n",
       "    </tr>\n",
       "    <tr>\n",
       "      <th>3</th>\n",
       "      <td>Customer</td>\n",
       "      <td>2014</td>\n",
       "      <td>4606</td>\n",
       "    </tr>\n",
       "    <tr>\n",
       "      <th>4</th>\n",
       "      <td>Subscriber</td>\n",
       "      <td>2015</td>\n",
       "      <td>116103</td>\n",
       "    </tr>\n",
       "  </tbody>\n",
       "</table>\n",
       "</div>"
      ],
      "text/plain": [
       "  subscriber_type  Year   trips\n",
       "0      Subscriber  2013   25614\n",
       "1        Customer  2013    2333\n",
       "2      Subscriber  2014  102641\n",
       "3        Customer  2014    4606\n",
       "4      Subscriber  2015  116103"
      ]
     },
     "execution_count": 105,
     "metadata": {},
     "output_type": "execute_result"
    }
   ],
   "source": [
    "df = pd.read_csv('q3.csv')\n",
    "df.head()"
   ]
  },
  {
   "cell_type": "code",
   "execution_count": 106,
   "id": "3c4df7ec",
   "metadata": {},
   "outputs": [
    {
     "data": {
      "text/plain": [
       "Text(27.680258333333327, 0.5, 'trips')"
      ]
     },
     "execution_count": 106,
     "metadata": {},
     "output_type": "execute_result"
    },
    {
     "data": {
      "text/plain": [
       "<Figure size 1008x432 with 0 Axes>"
      ]
     },
     "metadata": {},
     "output_type": "display_data"
    },
    {
     "data": {
      "image/png": "[encoded data removed]",
      "text/plain": [
       "<Figure size 464.55x360 with 1 Axes>"
      ]
     },
     "metadata": {},
     "output_type": "display_data"
    }
   ],
   "source": [
    "sns.set(color_codes=True)\n",
    "sns.set_style('dark')\n",
    "plt.figure(figsize=(14,6))\n",
    "sns.lmplot(data=df, x='Year', y='trips', hue='subscriber_type')\n",
    "plt.title('Subscriber and Customer Growth over time')\n",
    "plt.xlabel(\"Year\")\n",
    "plt.ylabel(\"trips\")\n",
    "\n"
   ]
  },
  {
   "cell_type": "code",
   "execution_count": 107,
   "id": "b7cd9666",
   "metadata": {},
   "outputs": [
    {
     "name": "stdout",
     "output_type": "stream",
     "text": [
      "Waiting on bqjob_r727a235a0ae4b4cd_0000017a18437962_1 ... (0s) Current status: DONE   \n"
     ]
    }
   ],
   "source": [
    "! bq query --use_legacy_sql=FALSE --format=csv 'SELECT c.subscriber_type, EXTRACT(MONTH FROM c.start_date) AS Month, COUNT(trip_id) AS trips FROM `bigquery-public-data.san_francisco_bikeshare.bikeshare_station_status` s JOIN `strange-radius-315021.section_99.Commuter_Table` c ON c.start_station_id = s.station_id WHERE EXTRACT(YEAR FROM c.start_date) = 2016 GROUP BY Month, c.subscriber_type ORDER BY Month ASC' > 2016months.csv\n"
   ]
  },
  {
   "cell_type": "code",
   "execution_count": 108,
   "id": "9ad088cd",
   "metadata": {},
   "outputs": [
    {
     "data": {
      "text/html": [
       "<div>\n",
       "<style scoped>\n",
       "    .dataframe tbody tr th:only-of-type {\n",
       "        vertical-align: middle;\n",
       "    }\n",
       "\n",
       "    .dataframe tbody tr th {\n",
       "        vertical-align: top;\n",
       "    }\n",
       "\n",
       "    .dataframe thead th {\n",
       "        text-align: right;\n",
       "    }\n",
       "</style>\n",
       "<table border=\"1\" class=\"dataframe\">\n",
       "  <thead>\n",
       "    <tr style=\"text-align: right;\">\n",
       "      <th></th>\n",
       "      <th>subscriber_type</th>\n",
       "      <th>Month</th>\n",
       "      <th>trips</th>\n",
       "    </tr>\n",
       "  </thead>\n",
       "  <tbody>\n",
       "    <tr>\n",
       "      <th>0</th>\n",
       "      <td>Subscriber</td>\n",
       "      <td>1</td>\n",
       "      <td>7217</td>\n",
       "    </tr>\n",
       "    <tr>\n",
       "      <th>1</th>\n",
       "      <td>Customer</td>\n",
       "      <td>1</td>\n",
       "      <td>189</td>\n",
       "    </tr>\n",
       "    <tr>\n",
       "      <th>2</th>\n",
       "      <td>Subscriber</td>\n",
       "      <td>2</td>\n",
       "      <td>8546</td>\n",
       "    </tr>\n",
       "    <tr>\n",
       "      <th>3</th>\n",
       "      <td>Customer</td>\n",
       "      <td>2</td>\n",
       "      <td>257</td>\n",
       "    </tr>\n",
       "    <tr>\n",
       "      <th>4</th>\n",
       "      <td>Subscriber</td>\n",
       "      <td>3</td>\n",
       "      <td>9597</td>\n",
       "    </tr>\n",
       "  </tbody>\n",
       "</table>\n",
       "</div>"
      ],
      "text/plain": [
       "  subscriber_type  Month  trips\n",
       "0      Subscriber      1   7217\n",
       "1        Customer      1    189\n",
       "2      Subscriber      2   8546\n",
       "3        Customer      2    257\n",
       "4      Subscriber      3   9597"
      ]
     },
     "execution_count": 108,
     "metadata": {},
     "output_type": "execute_result"
    }
   ],
   "source": [
    "df_months = pd.read_csv('2016months.csv')\n",
    "df_months.head()"
   ]
  },
  {
   "cell_type": "code",
   "execution_count": 109,
   "id": "ef3f5256",
   "metadata": {},
   "outputs": [
    {
     "data": {
      "text/plain": [
       "Text(25.647341666666676, 0.5, 'trips')"
      ]
     },
     "execution_count": 109,
     "metadata": {},
     "output_type": "execute_result"
    },
    {
     "data": {
      "text/plain": [
       "<Figure size 1008x432 with 0 Axes>"
      ]
     },
     "metadata": {},
     "output_type": "display_data"
    },
    {
     "data": {
      "image/png": "[encoded data removed]",
      "text/plain": [
       "<Figure size 464.55x360 with 1 Axes>"
      ]
     },
     "metadata": {},
     "output_type": "display_data"
    }
   ],
   "source": [
    "sns.set(color_codes=True)\n",
    "sns.set_style('dark')\n",
    "plt.figure(figsize=(14,6))\n",
    "sns.lmplot(data=df_months, x='Month', y='trips', hue='subscriber_type')\n",
    "plt.title('Subscriber and Customer Growth in 2016')\n",
    "plt.xlabel(\"Month\")\n",
    "plt.ylabel(\"trips\")"
   ]
  },
  {
   "cell_type": "markdown",
   "id": "315bb6ed",
   "metadata": {},
   "source": [
    "#### Analysis:\n",
    "###### The visualization above showing the trend over the first 8 months of 2016 reveals that although there was growth in subscriber count per month, the non-subscriber growth flattened. This stall was due to supplier issues and [Ford donating 50 million USD to the bike-share program](https://www.kqed.org/news/11079980/the-bay-areas-expanded-bike-share-system-brought-to-you-by-ford). Although the trend proved to be interesting at first glance, after digging deeper it was revealed to be statistical noise. "
   ]
  },
  {
   "cell_type": "markdown",
   "id": "72de8bdc",
   "metadata": {},
   "source": [
    "#### Question 4: \n",
    "######  Is there a difference between the number of commuters in the morning and afternoon?\n",
    "#### Answer:\n",
    "###### The most popular morning and afternoon trips seem to mirror each other, however, it appears that more people are traveling in the afternoon commute hours compared to the morning ones, indicating that there could potentially be more morning commuters. \n",
    "\n"
   ]
  },
  {
   "cell_type": "code",
   "execution_count": 110,
   "id": "facb39e4",
   "metadata": {},
   "outputs": [
    {
     "name": "stdout",
     "output_type": "stream",
     "text": [
      "Waiting on bqjob_r15e56247e22f1b43_0000017a1843876b_1 ... (1s) Current status: DONE   \n"
     ]
    }
   ],
   "source": [
    "! bq query --use_legacy_sql=FALSE --format=csv 'SELECT m.start_station_name AS start_station, m.end_station_name AS end_station, COUNT(m.trip_id) AS trips FROM `bigquery-public-data.san_francisco_bikeshare.bikeshare_station_status` s JOIN `strange-radius-315021.section_99.afternoon_commute` m ON m.start_station_id = s.station_id GROUP BY m.start_station_name, end_station ORDER BY trips DESC' > Morning_Commuter_Table.csv\n"
   ]
  },
  {
   "cell_type": "code",
   "execution_count": 111,
   "id": "9d48dc05",
   "metadata": {},
   "outputs": [
    {
     "name": "stdout",
     "output_type": "stream",
     "text": [
      "Waiting on bqjob_r15263c12f6dcabcb_0000017a184396b1_1 ... (1s) Current status: DONE   \n"
     ]
    }
   ],
   "source": [
    "! bq query --use_legacy_sql=FALSE --format=csv 'SELECT m.start_station_name AS morning_start, m.end_station_name AS morning_end, COUNT(m.trip_id) AS morning_trips FROM `bigquery-public-data.san_francisco_bikeshare.bikeshare_station_status` s JOIN `strange-radius-315021.section_99.morning_commute` m ON m.start_station_id = s.station_id GROUP BY m.start_station_name, morning_end ORDER BY morning_trips DESC'> Afternoon_Commuter_Table.csv\n"
   ]
  },
  {
   "cell_type": "code",
   "execution_count": null,
   "id": "f250c33b",
   "metadata": {},
   "outputs": [],
   "source": []
  },
  {
   "cell_type": "markdown",
   "id": "718de03a",
   "metadata": {},
   "source": [
    "#### Question 5: \n",
    "######  Which months are the least popular for bike-sharing?\n",
    "#### Answer:\n",
    "###### May, June, July are the three least popular months for bike-sharing, with May and June having significantly less than July (~86,000 and 94,000 respectively).\n"
   ]
  },
  {
   "cell_type": "code",
   "execution_count": 112,
   "id": "1bf79f81",
   "metadata": {},
   "outputs": [
    {
     "name": "stdout",
     "output_type": "stream",
     "text": [
      "Waiting on bqjob_r4d9df04730aec83b_0000017a1843a62c_1 ... (0s) Current status: DONE   \n"
     ]
    }
   ],
   "source": [
    "! bq query --use_legacy_sql=FALSE --format=csv 'SELECT EXTRACT(MONTH FROM start_date) AS Month, COUNT(trip_id) AS trips FROM `bigquery-public-data.san_francisco_bikeshare.bikeshare_trips` GROUP BY Month ORDER BY trips ASC'> monthly_trips.csv"
   ]
  },
  {
   "cell_type": "markdown",
   "id": "1e334870",
   "metadata": {},
   "source": [
    "### A Deeper Dive:\n",
    "#### Question 5.1:\n",
    "######  What days within May and June are the least popular?\n",
    "#### Answer:\n",
    "###### Days 1 and 7 (Sunday and Saturday) are the least popular days by a significant amount, meaning that there is an opportunity to offer incentives to increase ridership on these days. Intuitively this discovery makes sense as Saturday and Sunday are not workdays, meaning that the commuters do not need to use the bikes to get to work at a faster pace. This could also lead to the assumption that weekend customers such as families and tourists are not incentivized to use bikes as a method of transportation.  "
   ]
  },
  {
   "cell_type": "code",
   "execution_count": 113,
   "id": "5ffd72b2",
   "metadata": {},
   "outputs": [
    {
     "name": "stderr",
     "output_type": "stream",
     "text": [
      "Query complete after 0.00s: 100%|██████████| 1/1 [00:00<00:00, 115.91query/s] \n",
      "Downloading: 100%|██████████| 7/7 [00:01<00:00,  4.87rows/s]\n"
     ]
    }
   ],
   "source": [
    "%%bigquery weekdays_df\n",
    "\n",
    "SELECT \n",
    "    EXTRACT(DayofWeek FROM start_date) AS DayofWeek,\n",
    "    COUNT(trip_id) AS trips\n",
    "    FROM `bigquery-public-data.san_francisco_bikeshare.bikeshare_trips`\n",
    "WHERE EXTRACT(MONTH FROM start_date) in (5, 6) \n",
    "GROUP BY DayofWeek\n",
    "ORDER BY trips ASC"
   ]
  },
  {
   "cell_type": "code",
   "execution_count": 114,
   "id": "90a7f770",
   "metadata": {},
   "outputs": [
    {
     "data": {
      "text/html": [
       "<div>\n",
       "<style scoped>\n",
       "    .dataframe tbody tr th:only-of-type {\n",
       "        vertical-align: middle;\n",
       "    }\n",
       "\n",
       "    .dataframe tbody tr th {\n",
       "        vertical-align: top;\n",
       "    }\n",
       "\n",
       "    .dataframe thead th {\n",
       "        text-align: right;\n",
       "    }\n",
       "</style>\n",
       "<table border=\"1\" class=\"dataframe\">\n",
       "  <thead>\n",
       "    <tr style=\"text-align: right;\">\n",
       "      <th></th>\n",
       "      <th>DayofWeek</th>\n",
       "      <th>trips</th>\n",
       "    </tr>\n",
       "  </thead>\n",
       "  <tbody>\n",
       "    <tr>\n",
       "      <th>0</th>\n",
       "      <td>1</td>\n",
       "      <td>9389</td>\n",
       "    </tr>\n",
       "    <tr>\n",
       "      <th>1</th>\n",
       "      <td>7</td>\n",
       "      <td>10160</td>\n",
       "    </tr>\n",
       "    <tr>\n",
       "      <th>2</th>\n",
       "      <td>6</td>\n",
       "      <td>30879</td>\n",
       "    </tr>\n",
       "    <tr>\n",
       "      <th>3</th>\n",
       "      <td>2</td>\n",
       "      <td>30939</td>\n",
       "    </tr>\n",
       "    <tr>\n",
       "      <th>4</th>\n",
       "      <td>4</td>\n",
       "      <td>31717</td>\n",
       "    </tr>\n",
       "  </tbody>\n",
       "</table>\n",
       "</div>"
      ],
      "text/plain": [
       "   DayofWeek  trips\n",
       "0          1   9389\n",
       "1          7  10160\n",
       "2          6  30879\n",
       "3          2  30939\n",
       "4          4  31717"
      ]
     },
     "execution_count": 114,
     "metadata": {},
     "output_type": "execute_result"
    }
   ],
   "source": [
    "weekdays_df.head()"
   ]
  },
  {
   "cell_type": "code",
   "execution_count": 115,
   "id": "1b295f5e",
   "metadata": {},
   "outputs": [
    {
     "data": {
      "text/plain": [
       "Text(0, 0.5, 'Trips')"
      ]
     },
     "execution_count": 115,
     "metadata": {},
     "output_type": "execute_result"
    },
    {
     "data": {
      "image/png": "[encoded data removed]",
      "text/plain": [
       "<Figure size 1008x432 with 1 Axes>"
      ]
     },
     "metadata": {},
     "output_type": "display_data"
    }
   ],
   "source": [
    "sns.set(color_codes=True)\n",
    "sns.set_style('darkgrid')\n",
    "plt.figure(figsize=(14,6))\n",
    "sns.barplot(data=weekdays_df, x='DayofWeek', y='trips')\n",
    "plt.title('Trips over Days of the Week')\n",
    "plt.xlabel(\"Day\")\n",
    "plt.ylabel(\"Trips\")"
   ]
  },
  {
   "cell_type": "markdown",
   "id": "40cb56b3",
   "metadata": {},
   "source": [
    "#### Question 6: \n",
    "######  Which stations are least popular, where are they located?\n",
    "#### Answer:\n",
    "###### The least popular active stations are: San Pedro St. at Hedding St."
   ]
  },
  {
   "cell_type": "markdown",
   "id": "4b76c89c",
   "metadata": {},
   "source": [
    "#### SQL Query 2:"
   ]
  },
  {
   "cell_type": "code",
   "execution_count": 116,
   "id": "a45e4c98",
   "metadata": {},
   "outputs": [
    {
     "name": "stderr",
     "output_type": "stream",
     "text": [
      "Query complete after 0.00s: 100%|██████████| 4/4 [00:00<00:00, 1408.67query/s]                        \n",
      "Downloading: 100%|██████████| 290/290 [00:01<00:00, 182.56rows/s]\n"
     ]
    }
   ],
   "source": [
    "%%bigquery least_popular_df\n",
    "\n",
    "SELECT i.name, SUM(\n",
    "    CASE\n",
    "        WHEN t.c_subscription_type = 'Subscriber' THEN 1\n",
    "        ELSE 0\n",
    "    END) AS Num_subs\n",
    "    , COUNT(trip_id) AS trips\n",
    "FROM `bigquery-public-data.san_francisco_bikeshare.bikeshare_trips` t\n",
    "JOIN `bigquery-public-data.san_francisco_bikeshare.bikeshare_station_info` i\n",
    "ON t.start_station_id = i.station_id\n",
    "GROUP BY i.name\n",
    "ORDER BY trips ASC\n"
   ]
  },
  {
   "cell_type": "markdown",
   "id": "74380d4f",
   "metadata": {},
   "source": [
    "### A Deeper Dive:\n",
    "#### Question 7.1: \n",
    "######  Who are getting bikes from the least rented stations?\n",
    "#### Answer:\n",
    "###### From stations like Oak St. and San Pedro St. the customers are almost entirely subscribers. Other stations like Berry St. and King St. have no subscriptions. The lack of subscribers seems to be correlated with the unpopularity of certain stations.   "
   ]
  },
  {
   "cell_type": "markdown",
   "id": "05f2892a",
   "metadata": {},
   "source": [
    "## Summary"
   ]
  },
  {
   "cell_type": "markdown",
   "id": "cac8168d",
   "metadata": {},
   "source": [
    "###### In summation, I recommend Lyft introduce incentives such as: participating in community events, partnering with businesses at nearby stations, and working with tourists and families to entice them into renting the Baywheels Bikes. These recommendations are derived from data revealing that Saturday and Sunday are the least popular days of the week to rent, and non-subscriber customer growth seems to correlate with subscriber growth (and increased users). "
   ]
  }
 ],
 "metadata": {
  "environment": {
   "name": "common-cpu.m69",
   "type": "gcloud",
   "uri": "gcr.io/deeplearning-platform-release/base-cpu:m69"
  },
  "kernelspec": {
   "display_name": "Python 3",
   "language": "python",
   "name": "python3"
  },
  "language_info": {
   "codemirror_mode": {
    "name": "ipython",
    "version": 3
   },
   "file_extension": ".py",
   "mimetype": "text/x-python",
   "name": "python",
   "nbconvert_exporter": "python",
   "pygments_lexer": "ipython3",
   "version": "3.7.10"
  }
 },
 "nbformat": 4,
 "nbformat_minor": 5
}
